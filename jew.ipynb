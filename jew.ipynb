{
 "cells": [
  {
   "cell_type": "code",
   "execution_count": 1,
   "id": "8c3807f5-3676-48d5-80cd-0a2b34699197",
   "metadata": {},
   "outputs": [],
   "source": [
    "import pandas as pd\n",
    "from datetime import datetime, timedelta\n",
    "\n",
    "def first_friday(year, month):\n",
    "    d = datetime(year, month, 1)\n",
    "    days_until_friday = (4 - d.weekday()) % 7\n",
    "    return d + timedelta(days=days_until_friday)\n",
    "\n",
    "# anniversaries.csv 읽기\n",
    "anniversaries = pd.read_csv(\"anniversaries.csv\", encoding=\"euc-kr\")"
   ]
  },
  {
   "cell_type": "code",
   "execution_count": 2,
   "id": "9a7d8477-90bc-487a-a9d2-9bea28b41af8",
   "metadata": {},
   "outputs": [
    {
     "name": "stdout",
     "output_type": "stream",
     "text": [
      "4월 첫째 금요일 날짜를 04-04로 업데이트했습니다.\n"
     ]
    }
   ],
   "source": [
    "# 현재 연도 구하기\n",
    "current_year = datetime.now().year\n",
    "\n",
    "# 4월 첫째 금요일 날짜 계산\n",
    "first_friday_date = first_friday(current_year, 4).strftime(\"%m-%d\")  # ex) '04-04'\n",
    "\n",
    "# '기념일' 또는 '설명' 컬럼에서 '4월 첫째 금요일' 찾기 (예: '예비군의 날' 행)\n",
    "# 여기서는 '날짜' 컬럼이 '4-첫째-금요일' 이런 식이라 가정\n",
    "\n",
    "mask = anniversaries['date'].str.contains(\"4-1st-fri\", case=False, na=False)\n",
    "\n",
    "# 해당 행의 날짜 컬럼 업데이트\n",
    "anniversaries.loc[mask, 'date'] = first_friday_date\n",
    "\n",
    "# 변경된 데이터프레임 저장 (덮어쓰기)\n",
    "anniversaries.to_csv(\"anniversaries.csv\", index=False, encoding=\"euc-kr\")\n",
    "\n",
    "print(f\"4월 첫째 금요일 날짜를 {first_friday_date}로 업데이트했습니다.\")"
   ]
  },
  {
   "cell_type": "code",
   "execution_count": 3,
   "id": "ca5c738d-44da-4d32-aa2d-1a2621d35b4e",
   "metadata": {},
   "outputs": [],
   "source": [
    "import pandas as pd\n",
    "from konlpy.tag import Okt\n",
    "import json\n",
    "\n",
    "# 1️⃣ CSV 불러오기\n",
    "df = pd.read_csv(\"anniversaries.csv\", encoding=\"euc-kr\")"
   ]
  },
  {
   "cell_type": "code",
   "execution_count": 4,
   "id": "1db2266f-e562-4941-b014-a5bb2fa7d99d",
   "metadata": {
    "scrolled": true
   },
   "outputs": [],
   "source": [
    "# 2️⃣ 형태소 분석기 초기화\n",
    "okt = Okt()"
   ]
  },
  {
   "cell_type": "code",
   "execution_count": 5,
   "id": "97446e45-0e80-46d6-a577-226499c3ed41",
   "metadata": {},
   "outputs": [],
   "source": [
    "# 3️⃣ 불용어 리스트 정의\n",
    "stopwords = [\"정신\", \"행사\", \"위해\", \"관련\", \"기념\", \"계승\", \"발전\", \"하는\", \"고취\", \"함양\", \"진흥\", \"촉진\", \"새롭게\", \"임무\", \"기념일\", \"대규모\", \"중심\", \"정신과\", \"길이\"]\n",
    "\n",
    "# 4️⃣ 키워드 추출 함수\n",
    "def extract_keywords(text):\n",
    "    nouns = okt.nouns(text)  # 설명문에서 명사만 추출\n",
    "    filtered = [word for word in nouns if word not in stopwords and len(word) > 1]\n",
    "    return list(set(filtered))  # 중복 제거"
   ]
  },
  {
   "cell_type": "code",
   "execution_count": 6,
   "id": "57e42a3d-4384-479a-905e-50b0090c32ed",
   "metadata": {
    "scrolled": true
   },
   "outputs": [
    {
     "name": "stdout",
     "output_type": "stream",
     "text": [
      "             name     date                                       keywords\n",
      "0            3·1절  03월 01일  [독립, 단결, 선열, 위업, 자존, 국권, 회복, 애국심, 취함, 민족, 기리]\n",
      "1         순국선열의 날  11월 17일                        [학생, 자율, 독립운동, 애국심, 역량]\n",
      "2      학생독립운동 기념일  11월 03일                        [학생, 자율, 독립운동, 애국심, 역량]\n",
      "3   5·18민주화운동 기념일  05월 18일                                  [광주, 민주화, 운동]\n",
      "4    6·10민주항쟁 기념일  06월 10일                                       [항쟁, 민주]\n",
      "5         6·25전쟁일  06월 25일                           [국민, 안보, 전쟁, 상기, 의식]\n",
      "6     충무공 이순신 탄신일  04월 28일                                 [충무공, 충의, 이순신]\n",
      "7    6·10만세운동 기념일  06월 10일         [독립, 강제, 희생, 순국선열, 지배, 항거, 병합, 식민, 일제]\n",
      "8           국군의 날  10월 01일                 [국내외, 위용, 국군, 사기, 장병, 과시, 전투력]\n",
      "9           의병의 날  06월 01일                       [희생, 나라, 사랑, 국민, 의병, 기리]\n",
      "10         예비군의 날  04월 04일                      [참가, 방위, 모든, 국가, 다짐, 예비군]\n",
      "11           어린이날  05월 05일                                      [슬기, 어린이]\n",
      "12        우주항공의 날  05월 27일                  [중요성, 우주, 시대, 알리, 항공, 경제, 산업]\n",
      "13           어버이날  05월 28일                  [어버이, 대한, 보호, 조상, 어른, 노인, 은혜]\n"
     ]
    }
   ],
   "source": [
    "# 5️⃣ 각 기념일 설명문에서 키워드 추출\n",
    "df['keywords'] = df['desc'].apply(extract_keywords)\n",
    "\n",
    "# 6️⃣ 결과 출력\n",
    "print(df[['name', 'date', 'keywords']])\n",
    "\n",
    "# 7️⃣ JSON으로 저장\n",
    "df[['name', 'date', 'keywords']].to_json(\"anniversary_keywords.json\", orient=\"records\", force_ascii=False, indent=2)\n",
    "\n",
    "# ✅ CSV로도 저장\n",
    "df.to_csv(\"anniversary_keywords.csv\", encoding=\"utf-8-sig\", index=False)"
   ]
  },
  {
   "cell_type": "code",
   "execution_count": 57,
   "id": "1907c72d-7d65-4a2e-89b5-a863d930fcd2",
   "metadata": {},
   "outputs": [
    {
     "name": "stderr",
     "output_type": "stream",
     "text": [
      "C:\\Users\\김찬은\\AppData\\Local\\Temp\\ipykernel_8964\\2566684549.py:5: DtypeWarning: Columns (16,22) have mixed types. Specify dtype option on import or set low_memory=False.\n",
      "  df = pd.read_csv(\"kmdb_csv.csv\", encoding=\"euc-kr\")\n"
     ]
    },
    {
     "name": "stdout",
     "output_type": "stream",
     "text": [
      "📅 오늘은 '05월 18일'입니다.\n",
      "🎯 검색 키워드: ['광주', '민주화', '운동']\n",
      "🆕 기념일 추천 영화 (최신순):\n",
      "       표시용개봉일        영화등록번호NO  \\\n",
      "K  2022-05-18       쏴!쏴!쏴!쏴!탕   \n",
      "K  2021-05-12        아들의 이름으로   \n",
      "A  2020-07-16  광주비디오: 사라진 4시간   \n",
      "A  2019-05-23              김군   \n",
      "A  2018-10-31         1991, 봄   \n",
      "A  2018-05-17   5.18 힌츠페터 스토리   \n",
      "K  2018-05-16       임을 위한 행진곡   \n",
      "K  2017-12-27            1987   \n",
      "K  2017-08-02           택시운전사   \n",
      "K  2017-07-27            포크레인   \n",
      "K  2012-12-06            네모난원   \n",
      "K  2012-11-29             26년   \n",
      "K  2012-11-22         남영동1985   \n",
      "K  2012-10-25   강철대오: 구국의 철가방   \n",
      "A  2011-05-12             오월愛   \n",
      "K  2008-01-31      슈퍼맨이었던 사나이   \n",
      "K  2007-11-15            스카우트   \n",
      "K  2007-07-25          화려한 휴가   \n",
      "K  2007-01-04          오래된 정원   \n",
      "K  2000-01-01            박하사탕   \n",
      "\n",
      "                                                 줄거리  \n",
      "K  각자 5.18 당시 피해자와 가해자의 기억으로 살아가고 있는 세 남녀의 엇갈린 운명...  \n",
      "K  주인공 채근은 우울증에 걸린 대리운전 기사다. 그는 미국에 유학간 아들과 종종 통화...  \n",
      "A  인생을 송두리째 뒤흔든 영화가 ‘광주비디오’인 사람들이 있다.\\r\\n그들은 80년 ...  \n",
      "A  영화 <김군>은 1980년 5월 광주에서 촬영된 한 무장 시민군의 사진에서 출발한다...  \n",
      "A  1987년 승리의 함성이 사그라진 1991년의 봄. 국가의 불의에 저항하던 11명의...  \n",
      "A  “1980년 5월 어느 날, 핏빛으로 물든 광주. 탈출해야 한다, 그리고 알려야 한...  \n",
      "K  1980년 5월 과거, 형사들을 피해 도망쳐온 법대생 철수(전수현 분)와 마주친 미...  \n",
      "K  “책상을 탁! 치니 억! 하고 죽었습니다”\\r\\n\\r\\n1987년 1월, 경찰 조사...  \n",
      "K  1980년 5월, 서울 택시운전사. “광주? 돈 워리, 돈 워리! 아이 베스트 드라...  \n",
      "K  5·18 광주 민주화 운동 당시 시위 진압에 동원됐던 공수부대원 '김강일'이 퇴역 ...  \n",
      "K  때는 민주화 요구가 들끓었던 1980년대. 고지식한 모범생 경민은 순수한 학구열에 ...  \n",
      "K  1980년 5월.. 그리고 26년 후\\r\\n학살의 주범 ‘그 사람’을 단죄하라!\\r...  \n",
      "K  1985년 남영동 치안본부 대공분실 515호… \\r\\n그곳에서 무슨 일이 일어났는지...  \n",
      "K  잘 생긴 놈만 연애하는 더러운 세상!\\r\\n평미남(평균 미만의 남자) 중국집 배달부...  \n",
      "A  올해로 30주년이 된 5.18광주민중항쟁.\\r\\n\\r\\n80년 5월 27일 항쟁의 ...  \n",
      "K  3년째 방송프로덕션에서 신파 '휴먼다큐'를 찍고 있는 송수정PD. 억지 눈물과 감동...  \n",
      "K  1980년, 화려한 휴가를 꿈꾸던 대학 야구부 직원 호창에게 불가능한(?) 미션이 ...  \n",
      "K  광주에 사는 택시기사 민우(김상경 분). 어릴 적 부모님을 여의고 끔찍이 아끼는 동...  \n",
      "K  80년대 군부독재에 반대하다가 젊음을 온통 감옥에서 보낸 현우(지진희 분). 17년...  \n",
      "K  “야유회(1999년 봄)” 가리봉동 공단 출신들이 모인 야유회장에 등장한 김영호(설...  \n"
     ]
    }
   ],
   "source": [
    "import pandas as pd\n",
    "from datetime import datetime\n",
    "\n",
    "# 📦 데이터 불러오기\n",
    "df = pd.read_csv(\"kmdb_csv.csv\", encoding=\"euc-kr\")\n",
    "df['키워드'] = df['키워드'].fillna('').astype(str)\n",
    "df['줄거리'] = df['줄거리'].fillna('').astype(str)\n",
    "df['대표개봉일'] = df['대표개봉일'].fillna('').astype(str).str.strip()\n",
    "\n",
    "anniversaries = pd.read_csv(\"anniversary_keywords.csv\", encoding=\"utf-8\")\n",
    "\n",
    "# 🎯 오늘 날짜 확인\n",
    "today = '05월 18일'  # datetime.now().strftime(\"%m월 %d일\")\n",
    "\n",
    "# 🎯 오늘 해당하는 기념일 찾기\n",
    "row = anniversaries[anniversaries['date'] == today]\n",
    "\n",
    "if row.empty:\n",
    "    print(\"📅 오늘은 기념일이 아닙니다.\")\n",
    "else:\n",
    "    print(f\"📅 오늘은 '{row.iloc[0]['date']}'입니다.\")\n",
    "\n",
    "    # 1️⃣ 키워드 파싱\n",
    "    keywords_raw = row.iloc[0]['keywords']\n",
    "    try:\n",
    "        keywords = eval(keywords_raw) if isinstance(keywords_raw, str) else []\n",
    "    except:\n",
    "        keywords = [k.strip() for k in keywords_raw.split(',') if k.strip()]\n",
    "    \n",
    "    print(f\"🎯 검색 키워드: {keywords}\")\n",
    "\n",
    "    # 2️⃣ 영화 필터링 함수\n",
    "    def match_keywords(movie_keywords_str, keywords, min_match=2):\n",
    "        movie_keywords = [k.strip() for k in movie_keywords_str.split(',') if k.strip()]\n",
    "        match_count = sum(1 for kw in keywords if any(kw in mk or mk in kw for mk in movie_keywords))\n",
    "        return match_count >= min_match\n",
    "\n",
    "    # 3️⃣ 키워드 매칭\n",
    "    df['추천여부'] = df['키워드'].apply(lambda x: match_keywords(x, keywords, min_match=2))\n",
    "    filtered = df[df['추천여부']].copy()  # ← 여기를 'filtered'로 맞춰야 함\n",
    "\n",
    "    if filtered.empty:\n",
    "        print(\"😢 해당 키워드에 맞는 영화가 없습니다.\")\n",
    "    else:\n",
    "        # 4️⃣ 개봉일 파싱 함수\n",
    "        def parse_release_date(date_str):\n",
    "            try:\n",
    "                clean = date_str.replace('.0', '')[:8]  # '20170727.0' → '20170727'\n",
    "                return datetime.strptime(clean, '%Y%m%d')\n",
    "            except:\n",
    "                try:\n",
    "                    return datetime.strptime(date_str.strip()[:4], \"%Y\")  # 연도만 있는 경우\n",
    "                except:\n",
    "                    return None  # 파싱 실패\n",
    "\n",
    "        filtered['개봉일파싱'] = filtered['대표개봉일'].apply(parse_release_date)\n",
    "        filtered = filtered.sort_values(by='개봉일파싱', ascending=False)\n",
    "\n",
    "        # 5️⃣ 출력용 날짜 포맷 (보기 좋게)\n",
    "        def format_date_for_display(date_str):\n",
    "            try:\n",
    "                d = parse_release_date(date_str)\n",
    "                return d.strftime('%Y-%m-%d') if d else '미상'\n",
    "            except:\n",
    "                return '미상'\n",
    "        \n",
    "        filtered['표시용개봉일'] = filtered['대표개봉일'].apply(format_date_for_display)\n",
    "\n",
    "        # 6️⃣ 결과 출력\n",
    "        print(\"🆕 기념일 추천 영화 (최신순):\")\n",
    "        print(filtered[['표시용개봉일', '영화등록번호NO', '줄거리']].head(20))"
   ]
  },
  {
   "cell_type": "code",
   "execution_count": null,
   "id": "2c586f4d-1ffc-4217-b347-04dd036a8985",
   "metadata": {},
   "outputs": [],
   "source": []
  }
 ],
 "metadata": {
  "kernelspec": {
   "display_name": "Python 3 (ipykernel)",
   "language": "python",
   "name": "python3"
  },
  "language_info": {
   "codemirror_mode": {
    "name": "ipython",
    "version": 3
   },
   "file_extension": ".py",
   "mimetype": "text/x-python",
   "name": "python",
   "nbconvert_exporter": "python",
   "pygments_lexer": "ipython3",
   "version": "3.12.3"
  }
 },
 "nbformat": 4,
 "nbformat_minor": 5
}
